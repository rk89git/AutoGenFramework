{
 "cells": [
  {
   "cell_type": "markdown",
   "id": "19db514a",
   "metadata": {},
   "source": [
    "## Using Tools with our AutoGen Agent"
   ]
  },
  {
   "cell_type": "code",
   "execution_count": 3,
   "id": "46c209ae",
   "metadata": {},
   "outputs": [],
   "source": [
    "from autogen_agentchat.agents import AssistantAgent\n",
    "from autogen_ext.models.openai import OpenAIChatCompletionClient\n",
    "from dotenv import load_dotenv\n",
    "import os\n",
    "\n",
    "load_dotenv()\n",
    "api_key = os.getenv('OPENAI_API_KEY')\n",
    "\n",
    "model_client = OpenAIChatCompletionClient(model=\"gpt-4\", api_key=api_key,)"
   ]
  },
  {
   "cell_type": "markdown",
   "id": "e90eab53",
   "metadata": {},
   "source": [
    "## Tools\n",
    "Special Functions that let the agent do things like fetch data, make calculations, or even call external services.\n",
    "\n",
    "Without tools, the agent can only chat. With tools, they can act"
   ]
  },
  {
   "cell_type": "code",
   "execution_count": 9,
   "id": "4d43f301",
   "metadata": {},
   "outputs": [],
   "source": [
    "def get_weather(city:str) -> str:\n",
    "    \"\"\"\n",
    "    A simple tool to get the current weather for a given city.\n",
    "    This is a placeholder function and should be replaced with actual API calls.\n",
    "    \"\"\"\n",
    "    # In a real scenario, you would call a weather API here\n",
    "    return f\"The current weather in {city} is sunny with a temperature of 25°C.\""
   ]
  },
  {
   "cell_type": "code",
   "execution_count": 10,
   "id": "ff2fb391",
   "metadata": {},
   "outputs": [],
   "source": [
    "assistant = AssistantAgent(\n",
    "    name=\"weather_assistant\",\n",
    "    model_client=model_client,\n",
    "    #description=\"A knowledgeable assistance with expertise in world history.\",\n",
    "    system_message=\"You are a weather assistant use the get_weather tool when asked about the whether in the city.\",\n",
    "    tools=[get_weather]\n",
    ")"
   ]
  },
  {
   "cell_type": "code",
   "execution_count": 11,
   "id": "7d521c00",
   "metadata": {},
   "outputs": [],
   "source": [
    "async def weather_assistant():\n",
    "    result = await assistant.run(task=\"What is the temperature of the city Chitrakoot right now?\")\n",
    "    print(result.messages[-1].content)"
   ]
  },
  {
   "cell_type": "code",
   "execution_count": 12,
   "id": "3819794d",
   "metadata": {},
   "outputs": [
    {
     "name": "stdout",
     "output_type": "stream",
     "text": [
      "The current weather in Chitrakoot is sunny with a temperature of 25°C.\n"
     ]
    }
   ],
   "source": [
    "await weather_assistant()"
   ]
  }
 ],
 "metadata": {
  "kernelspec": {
   "display_name": "Python 3",
   "language": "python",
   "name": "python3"
  },
  "language_info": {
   "codemirror_mode": {
    "name": "ipython",
    "version": 3
   },
   "file_extension": ".py",
   "mimetype": "text/x-python",
   "name": "python",
   "nbconvert_exporter": "python",
   "pygments_lexer": "ipython3",
   "version": "3.13.0"
  }
 },
 "nbformat": 4,
 "nbformat_minor": 5
}
