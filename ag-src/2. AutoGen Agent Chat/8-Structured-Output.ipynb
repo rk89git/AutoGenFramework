{
 "cells": [
  {
   "cell_type": "markdown",
   "id": "c6680ee5",
   "metadata": {},
   "source": [
    "## Structured Output"
   ]
  },
  {
   "cell_type": "markdown",
   "id": "8662276a",
   "metadata": {},
   "source": [
    "\"Labrador is a breed of Dog\""
   ]
  },
  {
   "cell_type": "code",
   "execution_count": 15,
   "id": "eca8b5a5",
   "metadata": {},
   "outputs": [],
   "source": [
    "import asyncio\n",
    "from autogen_agentchat.agents import AssistantAgent\n",
    "from autogen_ext.models.openai import OpenAIChatCompletionClient\n",
    "from autogen_agentchat.messages import TextMessage\n",
    "from dotenv import load_dotenv\n",
    "import os"
   ]
  },
  {
   "cell_type": "code",
   "execution_count": 16,
   "id": "5405b54b",
   "metadata": {},
   "outputs": [],
   "source": [
    "load_dotenv()\n",
    "api_key = os.getenv('OPENAI_API_KEY')\n",
    "\n",
    "model_client = OpenAIChatCompletionClient(model=\"gpt-4o\", api_key=api_key)"
   ]
  },
  {
   "cell_type": "code",
   "execution_count": 17,
   "id": "de4a0d8c",
   "metadata": {},
   "outputs": [],
   "source": [
    "from pydantic import BaseModel\n",
    "\n",
    "class PlanetInfo(BaseModel):\n",
    "    name: str\n",
    "    color: int\n",
    "    distance_miles: int"
   ]
  },
  {
   "cell_type": "code",
   "execution_count": 18,
   "id": "fbd28c11",
   "metadata": {},
   "outputs": [],
   "source": [
    "model_client = OpenAIChatCompletionClient(\n",
    "    model = 'gpt-4o',\n",
    "    api_key=api_key,\n",
    "    response_format=PlanetInfo\n",
    "    )"
   ]
  },
  {
   "cell_type": "code",
   "execution_count": 19,
   "id": "24b94e23",
   "metadata": {},
   "outputs": [],
   "source": [
    "agent = AssistantAgent(\n",
    "    name='planet_agent',\n",
    "    model_client=model_client,\n",
    "    system_message=\"You are a helpful assistant that provides information about planets. in the structure JSON\" \\\n",
    "    \"{ name :str\" \\\n",
    "    \"age : int\" \\\n",
    "    \"}\"\n",
    ")"
   ]
  },
  {
   "cell_type": "code",
   "execution_count": 20,
   "id": "48dd8595",
   "metadata": {},
   "outputs": [
    {
     "name": "stdout",
     "output_type": "stream",
     "text": [
      "{\"name\":\"Mars\",\"color\":16711680,\"distance_miles\":141600000}\n"
     ]
    }
   ],
   "source": [
    "async def test_structured_output():\n",
    "    task = TextMessage(content = \"Please provide information about Mars.\",source='User')\n",
    "    result = await agent.run(task=task)\n",
    "    structured_response = result.messages[-1].content\n",
    "    print(structured_response)\n",
    "\n",
    "await test_structured_output()"
   ]
  },
  {
   "cell_type": "markdown",
   "id": "69dae3e2",
   "metadata": {},
   "source": [
    "#### How Unstructured format looks like"
   ]
  },
  {
   "cell_type": "code",
   "execution_count": 25,
   "id": "8846e494",
   "metadata": {},
   "outputs": [],
   "source": [
    "## Create a separate model client for unstructured output\n",
    "unstructured_model_client = OpenAIChatCompletionClient(\n",
    "    model = 'gpt-4',\n",
    "    api_key=api_key,\n",
    "    # response_format=PlanetInfo\n",
    "    )"
   ]
  },
  {
   "cell_type": "code",
   "execution_count": 28,
   "id": "038d41c6",
   "metadata": {},
   "outputs": [],
   "source": [
    "agent_un = AssistantAgent(\n",
    "    name='planet_agent',\n",
    "    model_client=unstructured_model_client,\n",
    "    system_message=\"You are a helpful assistant that provides information about Indian History.\")"
   ]
  },
  {
   "cell_type": "code",
   "execution_count": 29,
   "id": "1bebfeae",
   "metadata": {},
   "outputs": [
    {
     "name": "stdout",
     "output_type": "stream",
     "text": [
      "Certainly, I believe you are referring to the Partition of India, which is a significant event in the history of India.\n",
      "\n",
      "The Partition of India was a division that took place in 1947 which marked the end of the British Raj and resulted in the creation of two independent nations, India and Pakistan. The partition was done on the basis of religious demographics, leading to a Hindu-majority India and a Muslim-majority Pakistan.\n",
      "\n",
      "The line of partition was determined by a British lawyer and arbitrator, Sir Cyril Radcliffe. He had never been to India before and had to make his decisions about dividing territories within just five weeks. The line came to be known as the Radcliffe Line.\n",
      "\n",
      "This partition led to a mass migration of people from both sides, which was accompanied by large scale violence, rioting, and communal tensions. It is estimated that approximately 10-15 million people were uprooted from their homelands making it the largest mass migration in human history. The death toll of partition-related violence ranges from 200,000 to 2 million people.\n",
      "\n",
      "It's important to note also that the partition left a significant impact on the socio-political stance of both countries, fostering a long-standing conflict particularly over the region of Jammu and Kashmir.\n",
      "\n",
      "The event of partition is seen as a traumatic period in the history of both India and Pakistan, and its effects are still noticeable to this day in the relations between the two countries. The Partition of India significantly altered the history of the entire South Asian region and continues to shape Indo-Pakistani relations.\n"
     ]
    }
   ],
   "source": [
    "async def test_unstructured_output():\n",
    "    res = TextMessage(content = \"Please provide information about Partiton.\",source='User')\n",
    "    result = await agent_un.run(task=res)\n",
    "    unstructured_response = result.messages[-1].content\n",
    "    print(unstructured_response)\n",
    "\n",
    "await test_unstructured_output()"
   ]
  }
 ],
 "metadata": {
  "kernelspec": {
   "display_name": "Python 3",
   "language": "python",
   "name": "python3"
  },
  "language_info": {
   "codemirror_mode": {
    "name": "ipython",
    "version": 3
   },
   "file_extension": ".py",
   "mimetype": "text/x-python",
   "name": "python",
   "nbconvert_exporter": "python",
   "pygments_lexer": "ipython3",
   "version": "3.13.0"
  }
 },
 "nbformat": 4,
 "nbformat_minor": 5
}
