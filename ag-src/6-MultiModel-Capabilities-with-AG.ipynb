{
 "cells": [
  {
   "cell_type": "markdown",
   "id": "2fefaa0f",
   "metadata": {},
   "source": [
    "## Messages in Autogen v0.4"
   ]
  },
  {
   "cell_type": "markdown",
   "id": "d456e3ca",
   "metadata": {},
   "source": [
    "We can imagine messages as the way agent communicate - text our Freind\n",
    "When it responds ---> it too sends a message\n",
    "\n",
    "TextMessage\n",
    "ImageMessage\n",
    "ToolMessage"
   ]
  },
  {
   "cell_type": "code",
   "execution_count": 3,
   "id": "9fd1fa1b",
   "metadata": {},
   "outputs": [],
   "source": [
    "import asyncio\n",
    "from autogen_agentchat.agents import AssistantAgent\n",
    "from autogen_ext.models.openai import OpenAIChatCompletionClient\n",
    "from autogen_agentchat.messages import TextMessage, MultiModalMessage\n",
    "from autogen_core import Image as AGImage\n",
    "\n",
    "from PIL import Image\n",
    "from io import BytesIO\n",
    "import requests\n",
    "\n",
    "from dotenv import load_dotenv\n",
    "import os\n",
    "\n",
    "load_dotenv()\n",
    "api_key = os.getenv('OPENAI_API_KEY')\n",
    "\n",
    "model_client = OpenAIChatCompletionClient(model=\"gpt-4o\", api_key=api_key)"
   ]
  },
  {
   "cell_type": "markdown",
   "id": "495d50af",
   "metadata": {},
   "source": [
    "### TextMessage"
   ]
  },
  {
   "cell_type": "code",
   "execution_count": 4,
   "id": "08e4759e",
   "metadata": {},
   "outputs": [],
   "source": [
    "agent = AssistantAgent(\n",
    "    name=\"text_agent\",\n",
    "    model_client=model_client,    \n",
    "    system_message=\"You are a helpful assistant answer the question accurately.\"\n",
    ")"
   ]
  },
  {
   "cell_type": "code",
   "execution_count": 5,
   "id": "504a6f9a",
   "metadata": {},
   "outputs": [],
   "source": [
    "async def test_text_messagest():\n",
    "    text_msg = TextMessage(content=\"What is the capital of USA?\", source='user')\n",
    "    result = await agent.run(task=[text_msg])\n",
    "    print(result.messages[-1].content)"
   ]
  },
  {
   "cell_type": "code",
   "execution_count": 6,
   "id": "ff084779",
   "metadata": {},
   "outputs": [
    {
     "name": "stdout",
     "output_type": "stream",
     "text": [
      "The capital of the United States is Washington, D.C.\n"
     ]
    }
   ],
   "source": [
    "await test_text_messagest()"
   ]
  },
  {
   "cell_type": "markdown",
   "id": "c2417673",
   "metadata": {},
   "source": [
    "## Multi Modal Messages "
   ]
  },
  {
   "cell_type": "markdown",
   "id": "d57ca41a",
   "metadata": {},
   "source": [
    "### ImageMessage"
   ]
  },
  {
   "cell_type": "code",
   "execution_count": 12,
   "id": "075b1b7d",
   "metadata": {},
   "outputs": [],
   "source": [
    "async def test_multi_model():\n",
    "\n",
    "    response = requests.get(\"https://picsum.photos/id/237/200/300\") ##id 23 is for the image of forks.\n",
    "    pil_img = Image.open(BytesIO(response.content))\n",
    "    ag_img = AGImage(pil_img)\n",
    "\n",
    "    multi_modal_msg = MultiModalMessage(\n",
    "        content = ['What is in this image?', ag_img],\n",
    "        source = 'user',\n",
    "    )\n",
    "\n",
    "    result = await agent.run(task=[multi_modal_msg])\n",
    "    print(result.messages[-1].content)"
   ]
  },
  {
   "cell_type": "code",
   "execution_count": 13,
   "id": "cd250cb4",
   "metadata": {},
   "outputs": [
    {
     "name": "stdout",
     "output_type": "stream",
     "text": [
      "The image shows a black Labrador Retriever puppy lying on a wooden surface.\n"
     ]
    }
   ],
   "source": [
    "await test_multi_model()"
   ]
  }
 ],
 "metadata": {
  "kernelspec": {
   "display_name": "Python 3",
   "language": "python",
   "name": "python3"
  },
  "language_info": {
   "codemirror_mode": {
    "name": "ipython",
    "version": 3
   },
   "file_extension": ".py",
   "mimetype": "text/x-python",
   "name": "python",
   "nbconvert_exporter": "python",
   "pygments_lexer": "ipython3",
   "version": "3.13.0"
  }
 },
 "nbformat": 4,
 "nbformat_minor": 5
}
