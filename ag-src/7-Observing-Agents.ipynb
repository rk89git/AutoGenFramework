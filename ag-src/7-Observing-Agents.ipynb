{
 "cells": [
  {
   "cell_type": "markdown",
   "id": "311079be",
   "metadata": {},
   "source": [
    "## Running and Observing Agents"
   ]
  },
  {
   "cell_type": "code",
   "execution_count": 3,
   "id": "e3aaebac",
   "metadata": {},
   "outputs": [],
   "source": [
    "from autogen_agentchat.agents import AssistantAgent\n",
    "from autogen_ext.models.openai import OpenAIChatCompletionClient\n",
    "from autogen_agentchat.messages import TextMessage\n",
    "from dotenv import load_dotenv\n",
    "import os"
   ]
  },
  {
   "cell_type": "code",
   "execution_count": 4,
   "id": "1e55ad92",
   "metadata": {},
   "outputs": [],
   "source": [
    "load_dotenv()\n",
    "api_key = os.getenv('OPENAI_API_KEY')\n",
    "\n",
    "model_client = OpenAIChatCompletionClient(model=\"gpt-4o\", api_key=api_key)"
   ]
  },
  {
   "cell_type": "code",
   "execution_count": 5,
   "id": "cbf257ef",
   "metadata": {},
   "outputs": [],
   "source": [
    "async def web_search(query: str) -> str:\n",
    "    \"\"\"\n",
    "    Find Information on the web.\n",
    "    \"\"\"\n",
    "    return \"The Labrador Retriever is a friendly, intelligent, and devoted breed of dog.\""
   ]
  },
  {
   "cell_type": "code",
   "execution_count": 6,
   "id": "0047835b",
   "metadata": {},
   "outputs": [],
   "source": [
    "agent = AssistantAgent(\n",
    "    name=\"assistant\",\n",
    "    model_client=model_client,  \n",
    "    tools={web_search},\n",
    "    system_message=\"use tool to solve the task.\"\n",
    ")"
   ]
  },
  {
   "cell_type": "code",
   "execution_count": null,
   "id": "8b74e9bb",
   "metadata": {},
   "outputs": [],
   "source": [
    "result = await agent.run(task=\"What is the Labrador Retriever?\")\n",
    "print(result.messages[-1].content)"
   ]
  },
  {
   "cell_type": "markdown",
   "id": "cec23dd4",
   "metadata": {},
   "source": [
    "## On_Message() Method"
   ]
  },
  {
   "cell_type": "code",
   "execution_count": 14,
   "id": "ee9485fb",
   "metadata": {},
   "outputs": [],
   "source": [
    "from autogen_core import CancellationToken\n",
    "async def assistant_run()-> None:\n",
    "    \"\"\"\n",
    "    Run the assistant agent.\n",
    "    \"\"\"\n",
    "    result = await agent.on_messages(\n",
    "        messages=[TextMessage(content=\"Find information on the Labrador Retriever.\",source=\"user\")],\n",
    "        cancellation_token=CancellationToken())\n",
    "    \n",
    "    print(result.inner_messages)\n",
    "    print(\"\\n\\n\\n\")\n",
    "\n",
    "    print(result.chat_message)"
   ]
  },
  {
   "cell_type": "code",
   "execution_count": 15,
   "id": "d2cfa71d",
   "metadata": {},
   "outputs": [
    {
     "name": "stdout",
     "output_type": "stream",
     "text": [
      "[ToolCallRequestEvent(source='assistant', models_usage=RequestUsage(prompt_tokens=552, completion_tokens=17), metadata={}, content=[FunctionCall(id='call_ILgYFaxEQbD4GNZ40qZmmonE', arguments='{\"query\":\"Labrador Retriever\"}', name='web_search')], type='ToolCallRequestEvent'), ToolCallExecutionEvent(source='assistant', models_usage=None, metadata={}, content=[FunctionExecutionResult(content='The Labrador Retriever is a friendly, intelligent, and devoted breed of dog.', name='web_search', call_id='call_ILgYFaxEQbD4GNZ40qZmmonE', is_error=False)], type='ToolCallExecutionEvent')]\n",
      "\n",
      "\n",
      "\n",
      "\n",
      "source='assistant' models_usage=None metadata={} content='The Labrador Retriever is a friendly, intelligent, and devoted breed of dog.' type='ToolCallSummaryMessage'\n"
     ]
    }
   ],
   "source": [
    "await assistant_run()"
   ]
  },
  {
   "cell_type": "markdown",
   "id": "046ba6f2",
   "metadata": {},
   "source": [
    "## Streaming Messages\n",
    "on_messages_stream()"
   ]
  },
  {
   "cell_type": "code",
   "execution_count": 25,
   "id": "be701ab1",
   "metadata": {},
   "outputs": [],
   "source": [
    "from autogen_agentchat.ui import Console\n",
    "\n",
    "async def assistance_run_stream() -> None:\n",
    "\n",
    "    await Console(\n",
    "        agent.on_messages_stream(\n",
    "        messages=[TextMessage(content=\"Find information on the Labrador Retriever.\", source=\"user\")],\n",
    "        cancellation_token=CancellationToken()),\n",
    "    output_stats=True) #Enable stats printing"
   ]
  },
  {
   "cell_type": "code",
   "execution_count": 26,
   "id": "19c5703b",
   "metadata": {},
   "outputs": [
    {
     "name": "stdout",
     "output_type": "stream",
     "text": [
      "---------- ToolCallRequestEvent (assistant) ----------\n",
      "[FunctionCall(id='call_Q76ZAgb4zck9XXltzEk7aG5S', arguments='{\"query\":\"Labrador Retriever details\"}', name='web_search')]\n",
      "[Prompt tokens: 604, Completion tokens: 18]\n",
      "---------- ToolCallExecutionEvent (assistant) ----------\n",
      "[FunctionExecutionResult(content='The Labrador Retriever is a friendly, intelligent, and devoted breed of dog.', name='web_search', call_id='call_Q76ZAgb4zck9XXltzEk7aG5S', is_error=False)]\n",
      "---------- assistant ----------\n",
      "The Labrador Retriever is a friendly, intelligent, and devoted breed of dog.\n",
      "---------- Summary ----------\n",
      "Number of inner messages: 2\n",
      "Total prompt tokens: 604\n",
      "Total completion tokens: 18\n",
      "Duration: 1.56 seconds\n"
     ]
    }
   ],
   "source": [
    "await assistance_run_stream()"
   ]
  }
 ],
 "metadata": {
  "kernelspec": {
   "display_name": "Python 3",
   "language": "python",
   "name": "python3"
  },
  "language_info": {
   "codemirror_mode": {
    "name": "ipython",
    "version": 3
   },
   "file_extension": ".py",
   "mimetype": "text/x-python",
   "name": "python",
   "nbconvert_exporter": "python",
   "pygments_lexer": "ipython3",
   "version": "3.13.0"
  }
 },
 "nbformat": 4,
 "nbformat_minor": 5
}
