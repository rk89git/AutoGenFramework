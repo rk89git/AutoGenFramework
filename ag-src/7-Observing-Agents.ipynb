{
 "cells": [
  {
   "cell_type": "markdown",
   "id": "311079be",
   "metadata": {},
   "source": [
    "## Running and Observing Agents"
   ]
  },
  {
   "cell_type": "code",
   "execution_count": 1,
   "id": "e3aaebac",
   "metadata": {},
   "outputs": [],
   "source": [
    "from autogen_agentchat.agents import AssistantAgent\n",
    "from autogen_ext.models.openai import OpenAIChatCompletionClient\n",
    "from autogen_agentchat.messages import TextMessage\n",
    "from dotenv import load_dotenv\n",
    "import os"
   ]
  },
  {
   "cell_type": "code",
   "execution_count": 2,
   "id": "1e55ad92",
   "metadata": {},
   "outputs": [],
   "source": [
    "load_dotenv()\n",
    "api_key = os.getenv('OPENAI_API_KEY')\n",
    "\n",
    "model_client = OpenAIChatCompletionClient(model=\"gpt-4o\", api_key=api_key)"
   ]
  },
  {
   "cell_type": "code",
   "execution_count": 14,
   "id": "cbf257ef",
   "metadata": {},
   "outputs": [],
   "source": [
    "async def web_search(query: str) -> str:\n",
    "    \"\"\"\n",
    "    Find Information on the web.\n",
    "    \"\"\"\n",
    "    return \"The Labrador Retriever is a friendly, intelligent, and devoted breed of dog.\""
   ]
  },
  {
   "cell_type": "code",
   "execution_count": 15,
   "id": "0047835b",
   "metadata": {},
   "outputs": [],
   "source": [
    "agent = AssistantAgent(\n",
    "    name=\"assistant\",\n",
    "    model_client=model_client,  \n",
    "    tools={web_search},\n",
    "    system_message=\"use tool to solve the task.\"\n",
    ")"
   ]
  },
  {
   "cell_type": "code",
   "execution_count": 16,
   "id": "8b74e9bb",
   "metadata": {},
   "outputs": [
    {
     "name": "stdout",
     "output_type": "stream",
     "text": [
      "The Labrador Retriever is a popular breed of dog known for its friendly nature, intelligence, and versatility. Here are some key characteristics of the breed:\n",
      "\n",
      "1. **Appearance**: Labrador Retrievers are medium to large-sized dogs with a strong, muscular build. They have a short, dense coat that can come in three main colors: black, yellow, and chocolate.\n",
      "\n",
      "2. **Temperament**: Labradors are known for their gentle and friendly nature. They are excellent companions, often good with children and other animals. Their social and outgoing personality makes them great family pets.\n",
      "\n",
      "3. **Intelligence**: Labradors are highly intelligent and trainable. They are often used as service dogs, in search and rescue operations, and in various canine sports due to their ability to learn quickly and follow commands.\n",
      "\n",
      "4. **Exercise Needs**: This breed is energetic and requires regular exercise to maintain their health and prevent boredom. Activities like swimming, fetching, and agility exercises are well-suited to their active nature.\n",
      "\n",
      "5. **Health**: Labradors are generally healthy dogs but can be prone to certain health issues, such as hip dysplasia, elbow dysplasia, and obesity. Regular vet check-ups and a balanced diet help manage these risks.\n",
      "\n",
      "6. **Popularity**: The Labrador Retriever has consistently ranked as one of the most popular dog breeds globally, known for their loyalty and companionship.\n",
      "\n",
      "Overall, the Labrador Retriever is celebrated for its friendly demeanor, versatility, and adaptability, making it a beloved choice for families and individuals alike.\n"
     ]
    }
   ],
   "source": [
    "result = await agent.run(task=\"What is the Labrador Retriever?\")\n",
    "print(result.messages[-1].content)"
   ]
  }
 ],
 "metadata": {
  "kernelspec": {
   "display_name": "Python 3",
   "language": "python",
   "name": "python3"
  },
  "language_info": {
   "codemirror_mode": {
    "name": "ipython",
    "version": 3
   },
   "file_extension": ".py",
   "mimetype": "text/x-python",
   "name": "python",
   "nbconvert_exporter": "python",
   "pygments_lexer": "ipython3",
   "version": "3.13.0"
  }
 },
 "nbformat": 4,
 "nbformat_minor": 5
}
