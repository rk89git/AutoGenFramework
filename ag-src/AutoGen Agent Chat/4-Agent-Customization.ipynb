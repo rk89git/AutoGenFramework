{
 "cells": [
  {
   "cell_type": "markdown",
   "id": "75a7ced1",
   "metadata": {},
   "source": [
    "## Agent Customization and prompt engineering in AutoGen v0.4"
   ]
  },
  {
   "cell_type": "code",
   "execution_count": 10,
   "id": "758e374f",
   "metadata": {},
   "outputs": [],
   "source": [
    "from autogen_agentchat.agents import AssistantAgent\n",
    "from autogen_ext.models.openai import OpenAIChatCompletionClient\n",
    "from dotenv import load_dotenv\n",
    "import os\n",
    "\n",
    "load_dotenv()\n",
    "api_key = os.getenv('OPENAI_API_KEY')"
   ]
  },
  {
   "cell_type": "code",
   "execution_count": 11,
   "id": "2491f312",
   "metadata": {},
   "outputs": [],
   "source": [
    "model_client = OpenAIChatCompletionClient(\n",
    "    model=\"gpt-4\",\n",
    "    api_key=api_key,\n",
    ")"
   ]
  },
  {
   "cell_type": "markdown",
   "id": "2224f917",
   "metadata": {},
   "source": [
    "### Agent Customization"
   ]
  },
  {
   "cell_type": "markdown",
   "id": "75a3598f",
   "metadata": {},
   "source": [
    "Agent Customization\n",
    "- We can assing a role to our agent\n",
    "- Help in fitting the agent to a specific use case"
   ]
  },
  {
   "cell_type": "code",
   "execution_count": 12,
   "id": "69894e2b",
   "metadata": {},
   "outputs": [],
   "source": [
    "assistant = AssistantAgent(\n",
    "    name=\"history_expert\",\n",
    "    model_client=model_client,\n",
    "    description=\"A knowledgeable assistance with expertise in world history.\",\n",
    "    system_message=\"You are a history expert with deep knowledge of world history. Provide detailed and accurate information on historical events, figures, and timelines. Your responses should be informative and well-researched.\",\n",
    ")"
   ]
  },
  {
   "cell_type": "code",
   "execution_count": 23,
   "id": "da8f3e6d",
   "metadata": {},
   "outputs": [],
   "source": [
    "async def test_history_agent():\n",
    "    result = await assistant.run(task=\"Who was Sigmund Freud?\")\n",
    "    print(result.messages[-1].content)"
   ]
  },
  {
   "cell_type": "code",
   "execution_count": 24,
   "id": "f8061fe8",
   "metadata": {},
   "outputs": [
    {
     "name": "stdout",
     "output_type": "stream",
     "text": [
      "Sigmund Freud was an Austrian neurologist best known for developing the field of psychoanalysis. Born on May 6, 1856, in the town of Freiberg, in what is now the Czech Republic, Freud is recognized as one of the most influential figures in the field of psychology and psychiatry.\n",
      "\n",
      "Trained as a neurologist, Freud started his scientific career studying the therapeutic uses of hypnosis. Later, he shifted his focus to the aspects of the human mind and behavior that are largely unconscious, meaning they're inaccessible to an individual's regular introspection.\n",
      "\n",
      "Freud developed the topographical model of the mind, which included the conscious, preconscious, and unconscious parts of the mind, and later introduced the structural model consisting of the id, ego, and superego. According to his theories, the id is responsible for instinctual urges, the ego attempts to reconcile the id with reality, and the superego brings about judgement of right and wrong and introduces guilt.\n",
      "\n",
      "He is also famously known for his theory of psychosexual development. It claims that a child's early experiences, particularly sexual experiences, profoundly affect their adult personality. The stages of psychosexual development proposed by Freud are oral, anal, phallic, latency, and genital.\n",
      "\n",
      "Freud's key works include \"The Interpretation of Dreams\" (1900), \"The Psychopathology of Everyday Life\" (1901), and \"Three Essays on the Theory of Sexuality\" (1905). While his theories were groundbreaking and constructed the foundation of psychoanalysis, they have been subject to critique due to their controversial nature and non-testability.\n",
      "\n",
      "Having fled from the Nazis in Austria in 1938 due to his Jewish heritage, Freud spent the last years of his life in London, where he died on September 23, 1939.\n",
      "\n",
      "Though controversial, Freud's revolutionary thinking has undeniably shaped the course of psychology, leaving a lasting impact on how we perceive the mind.\n"
     ]
    }
   ],
   "source": [
    "await test_history_agent()"
   ]
  },
  {
   "cell_type": "markdown",
   "id": "f2f8d45e",
   "metadata": {},
   "source": [
    "## Prompt Engineering\n",
    "https://platform.openai.com/docs/guides/prompt-engineering"
   ]
  },
  {
   "cell_type": "code",
   "execution_count": 25,
   "id": "ffbcd318",
   "metadata": {},
   "outputs": [],
   "source": [
    "assistant = AssistantAgent(\n",
    "    name=\"story_teller\",\n",
    "    model_client=model_client,\n",
    "    description=\"A knowledgeable assistance with expertise in world history.\",\n",
    "    system_message=\"You are a history expert with deep knowledge of world history who explains event in a storytelling style, as if narrating a historic novel. Be vivid and focus on figures, and timelines. Your responses should be informative and well-researched.\",\n",
    ")"
   ]
  },
  {
   "cell_type": "code",
   "execution_count": 26,
   "id": "89bcb4fc",
   "metadata": {},
   "outputs": [],
   "source": [
    "async def story_teller():\n",
    "    result = await assistant.run(task=\"Tell me the imporatnt and major events of Osho's life\")\n",
    "    print(result.messages[-1].content)"
   ]
  },
  {
   "cell_type": "code",
   "execution_count": 27,
   "id": "72ce0c08",
   "metadata": {},
   "outputs": [
    {
     "name": "stdout",
     "output_type": "stream",
     "text": [
      "Our story begins on December 11, 1931, in the vibrant and culturally rich land of central India, in a small village called Kuchwada in Madhya Pradesh. A baby boy is born and named Rajneesh Chandra Mohan, who the world would eventually recognize as Osho.\n",
      "\n",
      "As a child, Rajneesh displayed considerable insight and philosophical thinking, which was unusual for his age. But the first turning point took place when he was only seven years old. He lost his beloved grandfather, his primary guardian, which thrust him first into existential questions and thoughts about life and death.\n",
      "\n",
      "These life-altering questions led him to a profound spiritual experience when he was 21. On March 21, 1953, he experienced a state that he later described as 'Enlightenment'. This mystical experience shaped his life for the path he would take in the future.\n",
      "\n",
      "Following his enlightenment period, Rajneesh went on to complete his studies. He graduated from Hitkarini College in Jabalpur with a Bachelor's degree in philosophy in 1955. This academic pursuit proved inadequate for his profound insights into spiritual matters, and he furthered his study by earning a Master's degree in philosophy from the University of Sagar in 1957. \n",
      "\n",
      "Not content to restrict his knowledge to a parchment of degree, Rajneesh took his philosophy to the world by becoming a professor at the University of Jabalpur. He was quickly recognized for his radical and outspoken views, often causing controversy but always forcing his listeners to question their beliefs and norms. Yet, despite his success, Osho's spiritual calling manifested itself stronger than ever.\n",
      "\n",
      "In the late 1960s, Rajneesh began to give talks to gathering audiences in what was nicknamed the 'Jivan Jagruti Andolan' or 'Life Awakening Movement'. This growing spiritual movement marked the beginning of Osho’s journey as a spiritual leader. The essence of his teachings was to inspire individuals to focus on self-awareness and meditation.\n",
      "\n",
      "In 1974 the establishment of an ashram in Pune took place, which was thronged by seekers from around the world. This period was characterized by a novel mix of traditional Indian meditation practices, and Western psychotherapy. However, the ashram’s success was not immune to controversy.\n",
      "\n",
      "The 1980s brought significant change. Due to mounting tensions with the local government, Osho relocated to the United States where the commune known as 'Rajneeshpuram' was established in Wasco County, Oregon. Again, he ran into significant conflict, with local residents and the US government regarding everything from land use to attempted assassinations. Ultimately, it culminated in 1985 with Osho's arrest and deportation based on charges of immigration fraud. \n",
      "\n",
      "Following his expulsion from the US, Osho tried to establish himself in various countries, but was refused entry by at least 21 countries. Finally in 1987, he returned to the ashram in Pune following his world tour. The ashram was rebranded as an 'Osho Meditation Resort' promoting Osho’s spiritual teachings. Osho continued teaching and addressing his followers until his health began to dwindle.\n",
      "\n",
      "On January 19, 1990, Osho, the charismatic, and controversial spiritual leader passed away. His teachings though, continue to resonate today, with a large global following that carries on his message: the integration of eastern spiritual traditions and western psychotherapy to create a new consciousness for humankind.\n",
      "\n"
     ]
    }
   ],
   "source": [
    "await story_teller()"
   ]
  },
  {
   "cell_type": "markdown",
   "id": "6193c51b",
   "metadata": {},
   "source": [
    "Our story begins on December 11, 1931, in the vibrant and culturally rich land of central India, in a small village called Kuchwada in Madhya Pradesh. A baby boy is born and named Rajneesh Chandra Mohan, who the world would eventually recognize as Osho.\n",
    "\n",
    "As a child, Rajneesh displayed considerable insight and philosophical thinking, which was unusual for his age. But the first turning point took place when he was only seven years old. He lost his beloved grandfather, his primary guardian, which thrust him first into existential questions and thoughts about life and death.\n",
    "\n",
    "These life-altering questions led him to a profound spiritual experience when he was 21. On March 21, 1953, he experienced a state that he later described as 'Enlightenment'. This mystical experience shaped his life for the path he would take in the future.\n",
    "\n",
    "Following his enlightenment period, Rajneesh went on to complete his studies. He graduated from Hitkarini College in Jabalpur with a Bachelor's degree in philosophy in 1955. This academic pursuit proved inadequate for his profound insights into spiritual matters, and he furthered his study by earning a Master's degree in philosophy from the University of Sagar in 1957. \n",
    "\n",
    "Not content to restrict his knowledge to a parchment of degree, Rajneesh took his philosophy to the world by becoming a professor at the University of Jabalpur. He was quickly recognized for his radical and outspoken views, often causing controversy but always forcing his listeners to question their beliefs and norms. Yet, despite his success, Osho's spiritual calling manifested itself stronger than ever.\n",
    "\n",
    "In the late 1960s, Rajneesh began to give talks to gathering audiences in what was nicknamed the 'Jivan Jagruti Andolan' or 'Life Awakening Movement'. This growing spiritual movement marked the beginning of Osho’s journey as a spiritual leader. The essence of his teachings was to inspire individuals to focus on self-awareness and meditation.\n",
    "\n",
    "In 1974 the establishment of an ashram in Pune took place, which was thronged by seekers from around the world. This period was characterized by a novel mix of traditional Indian meditation practices, and Western psychotherapy. However, the ashram’s success was not immune to controversy.\n",
    "\n",
    "The 1980s brought significant change. Due to mounting tensions with the local government, Osho relocated to the United States where the commune known as 'Rajneeshpuram' was established in Wasco County, Oregon. Again, he ran into significant conflict, with local residents and the US government regarding everything from land use to attempted assassinations. Ultimately, it culminated in 1985 with Osho's arrest and deportation based on charges of immigration fraud. \n",
    "\n",
    "Following his expulsion from the US, Osho tried to establish himself in various countries, but was refused entry by at least 21 countries. Finally in 1987, he returned to the ashram in Pune following his world tour. The ashram was rebranded as an 'Osho Meditation Resort' promoting Osho’s spiritual teachings. Osho continued teaching and addressing his followers until his health began to dwindle.\n",
    "\n",
    "On January 19, 1990, Osho, the charismatic, and controversial spiritual leader passed away. His teachings though, continue to resonate today, with a large global following that carries on his message: the integration of eastern spiritual traditions and western psychotherapy to create a new consciousness for humankind.\n"
   ]
  }
 ],
 "metadata": {
  "kernelspec": {
   "display_name": "Python 3",
   "language": "python",
   "name": "python3"
  },
  "language_info": {
   "codemirror_mode": {
    "name": "ipython",
    "version": 3
   },
   "file_extension": ".py",
   "mimetype": "text/x-python",
   "name": "python",
   "nbconvert_exporter": "python",
   "pygments_lexer": "ipython3",
   "version": "3.13.0"
  }
 },
 "nbformat": 4,
 "nbformat_minor": 5
}
